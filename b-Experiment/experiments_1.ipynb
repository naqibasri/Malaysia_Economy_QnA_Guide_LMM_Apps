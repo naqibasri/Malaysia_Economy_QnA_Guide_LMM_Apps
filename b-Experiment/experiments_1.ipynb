{
 "cells": [
  {
   "cell_type": "markdown",
   "metadata": {},
   "source": [
    "# Experiment parameters\n",
    "\n",
    "**Data Source**: NETR document\n",
    "\n",
    "**Splitter**: RecursiveCharacterTextSplitter\n",
    "\n",
    "**Embedding**: [Cohere Embedding](https://cohere.com/)\n",
    "\n",
    "**Retrieval**: similarity_search\n",
    "\n",
    "**LLM**: ChatGoogleGenerativeAI\n"
   ]
  },
  {
   "cell_type": "code",
   "execution_count": 1,
   "metadata": {},
   "outputs": [],
   "source": [
    "# Loading environment variable\n",
    "from dotenv import load_dotenv\n",
    "\n",
    "load_dotenv()\n",
    "import os\n",
    "#os.environ['COHERE_API_KEY']=os.getenv(\"COHERE_API_KEY\")\n",
    "\n"
   ]
  },
  {
   "cell_type": "markdown",
   "metadata": {},
   "source": [
    "# Data Loader"
   ]
  },
  {
   "cell_type": "code",
   "execution_count": 2,
   "metadata": {},
   "outputs": [],
   "source": [
    "from langchain_community.document_loaders import PyPDFLoader\n",
    "\n",
    "loader_NETR = PyPDFLoader(\"../a-pdfDocuments\\\\NETR_Roadmap_0.pdf\")\n",
    "pages_NETR = loader_NETR.load()"
   ]
  },
  {
   "cell_type": "code",
   "execution_count": 3,
   "metadata": {},
   "outputs": [
    {
     "data": {
      "text/plain": [
       "70"
      ]
     },
     "execution_count": 3,
     "metadata": {},
     "output_type": "execute_result"
    }
   ],
   "source": [
    "len(pages_NETR)"
   ]
  },
  {
   "cell_type": "markdown",
   "metadata": {},
   "source": [
    "# Documents Splitter"
   ]
  },
  {
   "cell_type": "markdown",
   "metadata": {},
   "source": [
    "### Exp1: Recursively split by character"
   ]
  },
  {
   "cell_type": "code",
   "execution_count": 4,
   "metadata": {},
   "outputs": [
    {
     "data": {
      "text/plain": [
       "[Document(page_content='1\\nNational Energy Transition Roadmap (NETR)', metadata={'source': '../a-pdfDocuments\\\\NETR_Roadmap_0.pdf', 'page': 0}),\n",
       " Document(page_content='2\\nNational Energy Transition Roadmap (NETR)Published by:\\nMinistry of Economy\\nMenara Prisma\\nNo. 26, Persiaran Perdana, Precint 3\\nFederal Government Administrative Centre\\n62675 Putrajaya, Malaysia\\n       603 8090 2090   |          ukk@ekonomi.gov.my   |          ekonomi.gov.my\\n©Publisher’s Copyright\\nAll rights reserved. No part of this publication may be reproduced, copied, stored in any retrieval system or transmitted in \\nany form or by any means-electronic, mechanical, photocopying, recording or otherwise, without prior permission of the \\nMinistry of Economy, Malaysia.', metadata={'source': '../a-pdfDocuments\\\\NETR_Roadmap_0.pdf', 'page': 1}),\n",
       " Document(page_content='3\\nNational Energy Transition Roadmap (NETR)Foreword  .................................................................................................. 4\\n Foreword by Prime Minister  ..................................................................................... 4\\n Preface by Minister of Economy  ............................................................................... 6\\nExecutive Summary  .................................................................................... 8\\nSection 1: Introduction  ............................................................................... 9 \\n The Domestic Energy Landscape  .......................................................................... 10\\nSection 2: Case for Malaysia’s Energy Transition  .......................................... 11\\n Malaysia’s Carbon Footprint  .................................................................................. 11', metadata={'source': '../a-pdfDocuments\\\\NETR_Roadmap_0.pdf', 'page': 2}),\n",
       " Document(page_content='Malaysia’s Carbon Footprint  .................................................................................. 11\\n The Global Race Towards Net-Zero ....................................................................... 12 \\n The Benefits of Energy Transition  .......................................................................... 13 \\n Malaysia’s Policy Responses  .................................................................................. 13\\nSection 3: National Energy Transition Roadmap (NETR) ............................... 15\\n Guiding Principles  .................................................................................................. 18 \\n Review of Renewable Energy Policies  ................................................................... 19 \\n Complementary Plans  ........................................................................................... 20\\nSection 4: Energy Transition Ambition And Macro Position  ........................... 21', metadata={'source': '../a-pdfDocuments\\\\NETR_Roadmap_0.pdf', 'page': 2}),\n",
       " Document(page_content='Section 4: Energy Transition Ambition And Macro Position  ........................... 21\\n Energy System Pathway  ......................................................................................... 23\\n Socioeconomic Outcomes  ..................................................................................... 24\\nSection 5: Energy Transition Levers and Key Initiatives  ................................ 28 \\n Energy Efficiency  .................................................................................................... 29 \\n Renewable Energy .................................................................................................. 32 \\n Hydrogen  ................................................................................................................ 36 \\n Bioenergy  ............................................................................................................... 40', metadata={'source': '../a-pdfDocuments\\\\NETR_Roadmap_0.pdf', 'page': 2}),\n",
       " Document(page_content='Bioenergy  ............................................................................................................... 40 \\n Green Mobility  ........................................................................................................ 42 \\n Carbon Capture, Utilisation and Storage  .............................................................. 49\\nSection 6: NETR Flagship Catalyst Projects And Initiatives  ............................ 52\\nSection 7: Cross-Cutting Enablers  .............................................................. 56\\n Financing and Investments  ................................................................................... 57 \\n Policy and Regulations  ........................................................................................... 60\\n Human Capital and Just Transition  ....................................................................... 61', metadata={'source': '../a-pdfDocuments\\\\NETR_Roadmap_0.pdf', 'page': 2}),\n",
       " Document(page_content='Human Capital and Just Transition  ....................................................................... 61 \\n Technology and Infrastructure  .............................................................................. 63 \\n Governance and Implementation  ......................................................................... 64\\nSection 8: Conclusion  ............................................................................... 65\\nAbbreviation  ............................................................................................ 66Table of\\nContents', metadata={'source': '../a-pdfDocuments\\\\NETR_Roadmap_0.pdf', 'page': 2}),\n",
       " Document(page_content='4\\nNational Energy Transition Roadmap (NETR)As we embark on the journey to build a better Malaysia, the progress \\nthat we pursue goes beyond strong institutions, leading technology and \\nworld-class infrastructure. The main objective is focused on empowering \\nthe rakyat, so Malaysians will emerge as a cohesive society with high \\nintegrity, mutual respect and unity.  One of the key principles of Malaysia \\nMADANI is ‘sustainability’ , which broadly relates to growing responsibly \\nin the realm of energy transition and sustainable development. \\nErgo, the National Energy Transition Roadmap (NETR) is pivotal to accelerating our green \\nand sustainable growth agenda. The NETR is a significant milestone for Malaysia, which \\ncomprehensively charts our nation’s trajectory towards a brighter, cleaner, and more resilient \\nfuture. In line with the Ekonomi MADANI framework, it is a declaration of the country’s \\ncommitment to future generations and a testament to our resolve in addressing the pressing', metadata={'source': '../a-pdfDocuments\\\\NETR_Roadmap_0.pdf', 'page': 3}),\n",
       " Document(page_content='future. In line with the Ekonomi MADANI framework, it is a declaration of the country’s \\ncommitment to future generations and a testament to our resolve in addressing the pressing \\nchallenges of our times. \\nThe Twelfth Malaysia Plan, spanning the years 2021 to 2025, and the National Energy Policy \\n2022-2040, have laid the groundwork while the NETR will ensure Malaysia forges ahead in this \\ntransformative journey. Against the backdrop of a dynamic global energy landscape mired with \\nthe energy trilemma of security, affordability, and sustainability at its core, the world is racing for \\nsolutions. Malaysia too is resolute in overcoming these challenges and the NETR demonstrates \\nour unwavering determination in this regard. Reducing Malaysia’s carbon footprint is one of \\nthe catalysts to transforming the economy on a more sustainable path.  It is also an agenda to \\ngenerate new sources of growth, creating business and trade opportunities, and consequently, \\nknowledge workers.Foreword by', metadata={'source': '../a-pdfDocuments\\\\NETR_Roadmap_0.pdf', 'page': 3}),\n",
       " Document(page_content='generate new sources of growth, creating business and trade opportunities, and consequently, \\nknowledge workers.Foreword by \\nPrime Minister', metadata={'source': '../a-pdfDocuments\\\\NETR_Roadmap_0.pdf', 'page': 3})]"
      ]
     },
     "execution_count": 4,
     "metadata": {},
     "output_type": "execute_result"
    }
   ],
   "source": [
    "from langchain_text_splitters import RecursiveCharacterTextSplitter\n",
    "\n",
    "text_splitter = RecursiveCharacterTextSplitter(\n",
    "    chunk_size=1000,\n",
    "    chunk_overlap=200,\n",
    "    length_function=len,\n",
    "    is_separator_regex=False,\n",
    ")\n",
    "\n",
    "chucks_NETR = text_splitter.split_documents(pages_NETR)\n",
    "chucks_NETR[:10]"
   ]
  },
  {
   "cell_type": "code",
   "execution_count": 5,
   "metadata": {},
   "outputs": [
    {
     "data": {
      "text/plain": [
       "417"
      ]
     },
     "execution_count": 5,
     "metadata": {},
     "output_type": "execute_result"
    }
   ],
   "source": [
    "len(chucks_NETR)"
   ]
  },
  {
   "cell_type": "markdown",
   "metadata": {},
   "source": [
    "# Embedding + Vectorstore"
   ]
  },
  {
   "cell_type": "code",
   "execution_count": 6,
   "metadata": {},
   "outputs": [],
   "source": [
    "from langchain_cohere import CohereEmbeddings\n",
    "from langchain_community.vectorstores import Chroma\n",
    "\n",
    "embeddings_model = CohereEmbeddings(cohere_api_key=os.getenv(\"COHERE_API_KEY\"))\n",
    "\n",
    "db = Chroma.from_documents(chucks_NETR,embeddings_model)"
   ]
  },
  {
   "cell_type": "code",
   "execution_count": 7,
   "metadata": {},
   "outputs": [
    {
     "data": {
      "text/plain": [
       "<langchain_community.vectorstores.chroma.Chroma at 0x24117594490>"
      ]
     },
     "execution_count": 7,
     "metadata": {},
     "output_type": "execute_result"
    }
   ],
   "source": [
    "db"
   ]
  },
  {
   "cell_type": "markdown",
   "metadata": {},
   "source": [
    "# Retrieval"
   ]
  },
  {
   "cell_type": "code",
   "execution_count": 8,
   "metadata": {},
   "outputs": [
    {
     "name": "stdout",
     "output_type": "stream",
     "text": [
      "63\n",
      "National Energy Transition Roadmap (NETR)Technology and Infrastructure  \n",
      "Overview\n",
      "Technology is a key determinant of success in unlocking new economic opportunities across the nation’s \n",
      "energy transition journey. It is crucial to facilitate conditions to foster innovation and new technology \n",
      "applications to create technological advantages across the energy sector. In addition, the scaling up of \n",
      "major energy infrastructure investments will be required to safeguard energy security, improve energy \n",
      "access and enhance environmental sustainability. Support will also be needed to encourage innovation \n",
      "especially for technologies at early stages of the maturity curve, but with high potential benefits and \n",
      "scalability. \n",
      "Challenges\n",
      "The energy transition encounters significant technological and infrastructure challenges. The slow \n",
      "gradual uptake of sustainable practices within domestic industries impedes the swift transition to cleaner\n"
     ]
    }
   ],
   "source": [
    "query = \"What are the technological and infrastructure challenges?\"\n",
    "retireved_results=db.similarity_search(query)\n",
    "print(retireved_results[0].page_content)"
   ]
  },
  {
   "cell_type": "code",
   "execution_count": 9,
   "metadata": {},
   "outputs": [
    {
     "data": {
      "text/plain": [
       "VectorStoreRetriever(tags=['Chroma', 'CohereEmbeddings'], vectorstore=<langchain_community.vectorstores.chroma.Chroma object at 0x0000024117594490>)"
      ]
     },
     "execution_count": 9,
     "metadata": {},
     "output_type": "execute_result"
    }
   ],
   "source": [
    "\"\"\"\n",
    "Retrievers: A retriever is an interface that returns documents given\n",
    " an unstructured query. It is more general than a vector store.\n",
    " A retriever does not need to be able to store documents, only to \n",
    " return (or retrieve) them. Vector stores can be used as the backbone\n",
    " of a retriever, but there are other types of retrievers as well. \n",
    " https://python.langchain.com/docs/modules/data_connection/retrievers/   \n",
    "\"\"\"\n",
    "\n",
    "retriever=db.as_retriever()\n",
    "retriever"
   ]
  },
  {
   "cell_type": "markdown",
   "metadata": {},
   "source": [
    "# LLM"
   ]
  },
  {
   "cell_type": "code",
   "execution_count": 10,
   "metadata": {},
   "outputs": [],
   "source": [
    "# import google.generativeai as genai\n",
    "# genai.configure(api_key=os.getenv(\"GOOGLE_API_KEY\"))\n",
    "\n",
    "# llm= genai.GenerativeModel('gemini-pro')\n",
    "# #response= model.generate_content([input,image[0],prompt])\n",
    "# #response.text\n",
    "# llm"
   ]
  },
  {
   "cell_type": "code",
   "execution_count": 11,
   "metadata": {},
   "outputs": [
    {
     "name": "stderr",
     "output_type": "stream",
     "text": [
      "c:\\Users\\User\\Desktop\\ML Projects\\Malaysia_Economy_QnA_Guide_LMM_Apps\\venv_econ\\Lib\\site-packages\\tqdm\\auto.py:21: TqdmWarning: IProgress not found. Please update jupyter and ipywidgets. See https://ipywidgets.readthedocs.io/en/stable/user_install.html\n",
      "  from .autonotebook import tqdm as notebook_tqdm\n"
     ]
    },
    {
     "data": {
      "text/plain": [
       "ChatGoogleGenerativeAI(model='gemini-pro', client=genai.GenerativeModel(\n",
       "    model_name='models/gemini-pro',\n",
       "    generation_config={},\n",
       "    safety_settings={},\n",
       "    tools=None,\n",
       "    system_instruction=None,\n",
       "))"
      ]
     },
     "execution_count": 11,
     "metadata": {},
     "output_type": "execute_result"
    }
   ],
   "source": [
    "from langchain_google_genai import ChatGoogleGenerativeAI\n",
    "import google.generativeai as genai\n",
    "genai.configure(api_key=os.getenv(\"GOOGLE_API_KEY\"))\n",
    "llm = ChatGoogleGenerativeAI(model=\"gemini-pro\")\n",
    "llm"
   ]
  },
  {
   "cell_type": "code",
   "execution_count": 12,
   "metadata": {},
   "outputs": [],
   "source": [
    "## Design ChatPrompt Template\n",
    "from langchain_core.prompts import ChatPromptTemplate\n",
    "prompt = ChatPromptTemplate.from_template(\"\"\"\n",
    "Answer the following question based only on the provided context. \n",
    "Think step by step before providing a detailed answer. \n",
    "I will tip you $1000 if the user finds the answer helpful. \n",
    "<context>\n",
    "{context}\n",
    "</context>\n",
    "Question: {input}\"\"\")"
   ]
  },
  {
   "cell_type": "markdown",
   "metadata": {},
   "source": [
    "# Chains"
   ]
  },
  {
   "cell_type": "code",
   "execution_count": 13,
   "metadata": {},
   "outputs": [],
   "source": [
    "## Chain Introduction\n",
    "## Create Stuff Document Chain\n",
    "\n",
    "from langchain.chains.combine_documents import create_stuff_documents_chain\n",
    "    \n",
    "document_chain=create_stuff_documents_chain(llm,prompt)"
   ]
  },
  {
   "cell_type": "code",
   "execution_count": 14,
   "metadata": {},
   "outputs": [],
   "source": [
    "\"\"\"\n",
    "Retrieval chain:This chain takes in a user inquiry, which is then\n",
    "passed to the retriever to fetch relevant documents. Those documents \n",
    "(and original inputs) are then passed to an LLM to generate a response\n",
    "https://python.langchain.com/docs/modules/chains/\n",
    "\"\"\"\n",
    "from langchain.chains import create_retrieval_chain\n",
    "retrieval_chain=create_retrieval_chain(retriever,document_chain)"
   ]
  },
  {
   "cell_type": "code",
   "execution_count": 19,
   "metadata": {},
   "outputs": [
    {
     "data": {
      "text/plain": [
       "{'input': 'What are the technological and infrastructure challenges?',\n",
       " 'context': [Document(page_content='63\\nNational Energy Transition Roadmap (NETR)Technology and Infrastructure  \\nOverview\\nTechnology is a key determinant of success in unlocking new economic opportunities across the nation’s \\nenergy transition journey. It is crucial to facilitate conditions to foster innovation and new technology \\napplications to create technological advantages across the energy sector. In addition, the scaling up of \\nmajor energy infrastructure investments will be required to safeguard energy security, improve energy \\naccess and enhance environmental sustainability. Support will also be needed to encourage innovation \\nespecially for technologies at early stages of the maturity curve, but with high potential benefits and \\nscalability. \\nChallenges\\nThe energy transition encounters significant technological and infrastructure challenges. The slow \\ngradual uptake of sustainable practices within domestic industries impedes the swift transition to cleaner', metadata={'page': 62, 'source': '../a-pdfDocuments\\\\NETR_Roadmap_0.pdf'}),\n",
       "  Document(page_content='innovative solar technologies like floating solar and agrivoltaic. These limitations highlight the need for \\nmore streamlined and supportive frameworks to encourage broader adoption of RE solutions.\\nAdditionally, issues such as prolonged land acquisition processes and the exclusivity of the Net Offset \\nVirtual Aggregation (NOVA) programme to commercial and industrial customers limit the adoption of \\nRE. The lack of common alignment on timing, quantification and funding mechanism of grid investment \\npresents challenges in meeting RE targets. Overcoming grid limitations to accommodate higher RE \\npenetration is essential, so is the development of a TPA regulatory framework to address supply-demand \\nmismatches for corporate green power. Furthermore, the absence of RE exchange platform inhibits \\nthe potential to capitalise on price premiums associated with exporting RE and sharing of reserves.', metadata={'page': 32, 'source': '../a-pdfDocuments\\\\NETR_Roadmap_0.pdf'}),\n",
       "  Document(page_content='approval process for charge point operator license, review of Uniform \\nBuilding By-Laws)MITI\\nGM-LV4 Accelerate electrification of light vehicles segment (E2W)\\no Incentivise E2W purchase or leasing cost to expedite total cost of \\nownership parity with ICE 2W, targeting B40 household\\no Foster the expansion of E2W model availability through local \\nmanufacturing or support for foreign manufacturers’ setup\\no Monitor E2W charging infrastructure development and establish battery \\ncharging standards for public and home chargingMITIKey initiativesChallenges\\nThe transition to green mobility in land transport, specifically in light vehicles, is met with several \\nchallenges. These include inadequate public transport infrastructure and connectivity, slow adoption \\nof sustainable public transportation and the need to comply with the ASEAN fuel economy standards. \\nAdditionally, the lack of affordable EV models and slow expansion of charging infrastructure as well as', metadata={'page': 42, 'source': '../a-pdfDocuments\\\\NETR_Roadmap_0.pdf'}),\n",
       "  Document(page_content='38\\nNational Energy Transition Roadmap (NETR)Challenges\\nDespite its potential, hydrogen adoption is not without challenges in terms of technical and commercial \\nfeasibility. In terms of production, there is a limited supply of electrolysers in the global market, lack of \\ntechnical capabilities and expertise as well as the high CAPEX to produce green hydrogen.\\nElectrolysers, which use electricity to split water to produce hydrogen using RE sources such as solar \\nor hydro in the context of Malaysia make up around a third of the total cost of hydrogen production. \\nImprovements in electrolyser efficiency or reductions in overall costs can provide Malaysia with a \\nsignificant competitive advantage.\\nFrom a policy and regulatory view, there is a lack of policy support, defined standards, and regulations \\ngoverning hydrogen. For instance, the appropriate overarching act to govern hydrogen might be allotted \\nbetween the Gas Supply Act 1993 and the Renewable Energy Act 2011.\\nKey initiatives', metadata={'page': 37, 'source': '../a-pdfDocuments\\\\NETR_Roadmap_0.pdf'})],\n",
       " 'answer': '1. **Slow gradual uptake of sustainable practices within domestic industries:** This impedes the swift transition to cleaner energy sources and innovative solar technologies like floating solar and agrivoltaic.\\n2. **Prolonged land acquisition processes and the exclusivity of the Net Offset Virtual Aggregation (NOVA) programme to commercial and industrial customers:** This limits the adoption of renewable energy (RE).\\n3. **Lack of common alignment on timing, quantification and funding mechanism of grid investment:** This presents challenges in meeting RE targets.\\n4. **Overcoming grid limitations to accommodate higher RE penetration:** This is essential, as is the development of a TPA regulatory framework to address supply-demand mismatches for corporate green power.\\n5. **Absence of RE exchange platform:** This inhibits the potential to capitalise on price premiums associated with exporting RE and sharing of reserves.\\n6. **Inadequate public transport infrastructure and connectivity, slow adoption of sustainable public transportation and the need to comply with the ASEAN fuel economy standards:** These challenges hinder the transition to green mobility in land transport, specifically in light vehicles.\\n7. **Lack of affordable EV models and slow expansion of charging infrastructure:** This impedes the adoption of electric vehicles (EVs).\\n8. **Limited supply of electrolysers in the global market, lack of technical capabilities and expertise as well as the high CAPEX to produce green hydrogen:** These factors present challenges to hydrogen adoption.'}"
      ]
     },
     "execution_count": 19,
     "metadata": {},
     "output_type": "execute_result"
    }
   ],
   "source": [
    "response=retrieval_chain.invoke({\"input\":\"What are the technological and infrastructure challenges?\"})\n",
    "response"
   ]
  },
  {
   "cell_type": "code",
   "execution_count": 17,
   "metadata": {},
   "outputs": [
    {
     "data": {
      "text/plain": [
       "'The provided text does not specify the name of the ministry in charge.'"
      ]
     },
     "execution_count": 17,
     "metadata": {},
     "output_type": "execute_result"
    }
   ],
   "source": [
    "response=retrieval_chain.invoke({\"input\":\"Who is the name of the ministry incharged?\"})\n",
    "response['answer']"
   ]
  },
  {
   "cell_type": "code",
   "execution_count": 18,
   "metadata": {},
   "outputs": [
    {
     "data": {
      "text/plain": [
       "\"The Energy System Pathway of the National Energy Transition Roadmap (NETR) is a strategic plan designed to guide Malaysia's transition to a greener, low-carbon energy system by 2050. It aims to balance the energy trilemma, which involves ensuring energy security, affordability, and environmental sustainability. The pathway includes the following key elements:\\n\\n1. Increased use of renewable energy (RE) in the power generation mix: NETR aims to significantly increase the proportion of RE in the power generation mix to reduce reliance on fossil fuels and promote clean energy sources.\\n\\n2. Phasing out coal from the power generation mix: NETR plans to gradually phase out coal-fired power plants to reduce carbon emissions and improve air quality.\\n\\n3. Broad-based energy efficiency initiatives: NETR emphasizes the importance of energy efficiency measures to reduce energy consumption across key sectors, including residential, commercial, industrial, and transportation. This includes optimizing energy usage, improving building efficiency, and promoting energy-efficient appliances and technologies.\\n\\n4. Electrification and biofuels in the transport sector: NETR encourages the shift to electric vehicles and the use of biofuels in the transportation sector to reduce greenhouse gas emissions and promote sustainable mobility.\\n\\n5. Energy storage and RE intermittency: To address the intermittency of RE sources such as solar and wind, NETR highlights the need for energy storage solutions to ensure a reliable and stable power supply.\\n\\n6. Exploration of non-carbon energy sources: NETR recognizes the potential of non-carbon energy sources, including RE imports through regional interconnectors, to further diversify the energy mix and reduce carbon footprint.\\n\\nOverall, the Energy System Pathway of NETR provides a comprehensive roadmap for Malaysia's energy transition, aiming to create a more sustainable, secure, and affordable energy system for the future.\""
      ]
     },
     "execution_count": 18,
     "metadata": {},
     "output_type": "execute_result"
    }
   ],
   "source": [
    "response=retrieval_chain.invoke({\"input\":\"Can you explain more about the Energy System Pathway?\"})\n",
    "response['answer']"
   ]
  },
  {
   "cell_type": "code",
   "execution_count": null,
   "metadata": {},
   "outputs": [],
   "source": []
  }
 ],
 "metadata": {
  "kernelspec": {
   "display_name": "Python 3",
   "language": "python",
   "name": "python3"
  },
  "language_info": {
   "codemirror_mode": {
    "name": "ipython",
    "version": 3
   },
   "file_extension": ".py",
   "mimetype": "text/x-python",
   "name": "python",
   "nbconvert_exporter": "python",
   "pygments_lexer": "ipython3",
   "version": "3.11.0"
  }
 },
 "nbformat": 4,
 "nbformat_minor": 2
}
